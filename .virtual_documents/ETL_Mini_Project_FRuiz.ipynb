# Import dependencies
import pandas as pd
import numpy as np
pd.set_option('max_colwidth', 400)





# Read the data into a Pandas DataFrame
crowdfunding_info_df = pd.read_excel('Resources/crowdfunding.xlsx')
crowdfunding_info_df.head()


# Get a brief summary of the crowdfunding_info DataFrame.
crowdfunding_info_df.info()






# Get the crowdfunding_info_df columns.
crowdfunding_info_df.columns



# Assign the category and subcategory values to category and subcategory columns.
crowdfunding_info_df[['category','subcategory']] = crowdfunding_info_df['category & sub-category'].str.split('/',expand=True)
crowdfunding_info_df


# Get the unique categories and subcategories in separate lists.
categories = crowdfunding_info_df['category'].unique().tolist()
subcategories = crowdfunding_info_df['subcategory'].unique().tolist()

print(categories)
print(subcategories)


# Get the number of distinct values in the categories and subcategories lists.
print(len(categories))
print(len(subcategories))


# Create numpy arrays from 1-9 for the categories and 1-24 for the subcategories.
category_ids = np.arange(1, 10)
subcategory_ids = np.arange(1, 25)

print(category_ids)
print(subcategory_ids)


# Use a list comprehension to add "cat" to each category_id. 
cat_ids = ['cat'+ str(id) for id in category_ids]
# Use a list comprehension to add "subcat" to each subcategory_id.    
scat_ids = ['subcat'+ str(id) for id in subcategory_ids]
    
print(cat_ids)
print(scat_ids)


# Create a category DataFrame with the category_id array as the category_id and categories list as the category name.
category_df = pd.DataFrame({'category_id':cat_ids,'category':categories})
# Create a category DataFrame with the subcategory_id array as the subcategory_id and subcategories list as the subcategory name. 
subcategory_df = pd.DataFrame({'subcategory_id':scat_ids,'subcategory':subcategories})


category_df.head(5)


subcategory_df.head(5)


# Export categories_df and subcategories_df as CSV files.
category_df.to_csv("Resources/category.csv", index=False)

subcategory_df.to_csv("Resources/subcategory.csv", index=False)
print("The data category and subcategory has been exported as CSV files.")





# Create a copy of the crowdfunding_info_df DataFrame name campaign_df. 
campaign_df = crowdfunding_info_df.copy()
campaign_df.head()


# Rename the blurb, launched_at, and deadline columns.
# Rename the blurb, launched_at, and deadline columns.
campaign_df_ = campaign_df.rename(columns={'blurb':'description','launched_at':'launched_date','deadline':'end_date'})



campaign_df_.dtypes



# Convert the goal and pledged columns to a `float` data type.
campaign_df_['goal'] = campaign_df_['goal'].astype(float)
campaign_df_['pledged'] = campaign_df_['pledged'].astype(float)



# Check the datatypes
campaign_df_.dtypes


# Format the launched_date and end_date columns to datetime format
from datetime import datetime as dt
campaign_df_["launched_date"] = pd.to_datetime(campaign_df_["launched_date"], unit="s")
campaign_df_["end_date"] = pd.to_datetime(campaign_df_["end_date"], unit="s")
print("The data format for launched_date and end_date has been updated.")



campaign_df_.columns


# Merge the campaign_df with the category_df on the "category" column and 
# the subcategory_df on the "subcategory" column.
campaign_merged_df = pd.merge(how='left',left=campaign_df_,right=category_df,on='category')
campaign_merged_df = pd.merge(how='left',left=campaign_merged_df,right=subcategory_df,on='subcategory')
print("The data merge of the campaign_df with category and the subcategory_df with subcategory is successful.")

campaign_merged_df.tail()


# Drop unwanted columns
campaign_cleaned = campaign_merged_df.drop(columns=['category','subcategory','category & sub-category'])
campaign_cleaned.head(5)


# Export the DataFrame as a CSV file. 
campaign_cleaned.to_csv("Resources/campaign.csv", index=False)





# Read the data into a Pandas DataFrame. Use the `header=2` parameter when reading in the data.
contact_info_df = pd.read_excel('Resources/contacts.xlsx', header=2)
contact_info_df.head()








# Iterate through the contact_info_df and convert each row to a dictionary.
import json

dict_values = []
columns = None

for i, row in contact_info_df.iterrows():
    try:
        # Parse JSON data
        row_dict = json.loads(row.iloc[0])  # Adjust the column index if needed
        
        # Extract keys and values
        if columns is None:  # Set column names from the first valid row
            columns = list(row_dict.keys())
        dict_values.append(list(row_dict.values()))
    except json.JSONDecodeError:
        print(f"Invalid JSON in row {i}: {row.iloc[0]}")  # Debugging output
        continue  # Skip invalid rows

# Output result
print("Columns:", columns)
print("Values:", dict_values)


# Create a contact_info DataFrame and add each list of values, i.e., each row 
# to the 'contact_id', 'name', 'email' columns.
contactinfosepdf = pd.DataFrame(dict_values,columns=columns)
contactinfosepdf.head(5)


# Check the datatypes.
contactinfosepdf.info()


# Create a "first"name" and "last_name" column with the first and last names from the "name" column. 
contactinfosepdf[['first_name','last_name']] = contactinfosepdf['name'].str.split(expand=True)

# Drop the contact_name column
contactinfosepdf = contactinfosepdf.drop(columns='name')
contactinfosepdf


# Reorder the columns
contacts_df_clean = contactinfosepdf[['contact_id','first_name','last_name','email']]
contacts_df_clean


# Check the datatypes one more time before exporting as CSV file.
contacts_df_clean.info()



# Export the DataFrame as a CSV file. 
contacts_df_clean.to_csv("Resources/contacts.csv", encoding='utf8', index=False)





contact_info_df_copy = contact_info_df.copy()
contact_info_df_copy.head()


print(contactinfosepdf.columns)
print(contact_info_df_copy.columns)



contact_info_df_copy.info()


contact_info_df_copy.rename(columns={contact_info_df_copy.columns[0]: 'contact_info'}, inplace=True)



# Extract the four-digit contact ID number.
p =r'(\d{4})'
contact_info_df_copy['contact_id'] = contact_info_df_copy['contact_info'].str.extract(p)[0]
contact_info_df_copy


# Check the datatypes.
contact_info_df_copy.info()


# Convert the "contact_id" column to an int64 data type.
contact_info_df_copy['contact_id'] = pd.to_numeric(contact_info_df_copy['contact_id'])
contact_info_df_copy.info()


# Extract the name of the contact and add it to a new column. 
p = '(\\w+\\s\\w+)'
contact_info_df_copy['name'] = contact_info_df_copy['contact_info'].str.extract(p)[0]
contact_info_df_copy


# Extract the email from the contacts and add the values to a new column. 
p = '(\\w+@\\w+\\.\\w+)'
contact_info_df_copy['email'] = contact_info_df_copy['contact_info'].str.extract(p)[0]
contact_info_df_copy = contact_info_df_copy.dropna()

contact_info_df_copy


# Create a copy of the contact_info_df with the 'contact_id', 'name', 'email' columns.
contactreg = contact_info_df_copy[['contact_id','name','email']]
contactreg


# Create a "first"name" and "last_name" column with the first and last names from the "name" column. 
p = '(\\w+)\\s(\\w+)'
firstlast = contactreg['name'].str.extractall(p)
firstlast.reset_index(drop=True,inplace=True)
contactreg['first_name'] = firstlast[0]
contactreg['last_name'] = firstlast[1]
# Drop the contact_name column
contactreg = contactreg.drop(columns='name')
contactreg



# Reorder the columns
contactregclean = contactreg[['contact_id','first_name','last_name','email']]
contactregclean


# Check the datatypes one more time before exporting as CSV file.
contactregclean.info()


# Export the DataFrame as a CSV file. 
# contacts_df_clean.to_csv("Resources/contacts.csv", encoding='utf8', index=False)
contacts_df_clean.to_csv("Resources/contacts.csv", encoding='utf8', index=False)




